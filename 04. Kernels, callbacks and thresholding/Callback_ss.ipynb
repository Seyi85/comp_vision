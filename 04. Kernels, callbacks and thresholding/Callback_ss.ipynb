{
 "cells": [
  {
   "cell_type": "markdown",
   "metadata": {},
   "source": [
    "# OpenCV Callbacks"
   ]
  },
  {
   "cell_type": "code",
   "execution_count": 2,
   "metadata": {
    "ExecuteTime": {
     "end_time": "2019-11-19T09:54:11.762369Z",
     "start_time": "2019-11-19T09:54:09.945225Z"
    }
   },
   "outputs": [],
   "source": [
    "import cv2\n",
    "import numpy as np\n",
    "import matplotlib.pyplot as plt\n",
    "%matplotlib inline"
   ]
  },
  {
   "cell_type": "markdown",
   "metadata": {},
   "source": [
    "## Keyboard callbacks"
   ]
  },
  {
   "cell_type": "code",
   "execution_count": 3,
   "metadata": {
    "ExecuteTime": {
     "end_time": "2019-11-19T11:10:33.575331Z",
     "start_time": "2019-11-19T11:10:32.647518Z"
    }
   },
   "outputs": [
    {
     "data": {
      "text/plain": [
       "-1"
      ]
     },
     "execution_count": 3,
     "metadata": {},
     "output_type": "execute_result"
    }
   ],
   "source": [
    "# Load an image and show it on screen with cv2.imshow\n",
    "# When the key g or G is detected then change the image to show in grayscale\n",
    "# When the key c or C is detected then change the image to show in color\n",
    "# When the key t or T is detected then change the image to show the thresholded version of the image\n",
    "# When the key esc is detected close the image\n",
    "image = r\"C:\\Users\\oolus\\OneDrive\\Documents\\GitHub\\ai-fall20\\6. Computer Vision\\03. Histograms, transformations and Bitwise ops\\img\\day1.jpg\"\n",
    "Image = cv2.imread(image)\n",
    "window_name = 'window' \n",
    "\n",
    "key = 0 \n",
    "\n",
    "img = Image.copy()\n",
    "\n",
    "cv2.namedWindow(window_name, cv2.WINDOW_AUTOSIZE)\n",
    "\n",
    "cv2.imshow(window_name, img)\n",
    "\n",
    "while True:\n",
    "    if (key == ord('g') or key == ord('G')):\n",
    "        img = cv2.cvtColor(img, cv2.COLOR_BGR2GRAY)\n",
    "        cv2.imshow(window_name, img)\n",
    "\n",
    "    if (key == ord('c') or key == ord('C')):\n",
    "        img = cv2.cvtColor(img, cv2.COLOR_GRAY2BGR)\n",
    "        cv2.imshow(window_name, img)\n",
    "\n",
    "    if (key == ord('t') or key == ord('T')):\n",
    "        ret,thresh = cv2.threshold(img,127,255,cv2.THRESH_BINARY)\n",
    "        cv2.imshow(window_name, thresh)\n",
    "    if (key == 27):\n",
    "        break\n",
    "    key = cv2.waitKey(0)\n",
    "\n",
    "cv2.destroyAllWindows()\n",
    "cv2.waitKey(1)"
   ]
  },
  {
   "cell_type": "code",
   "execution_count": 28,
   "metadata": {},
   "outputs": [],
   "source": []
  },
  {
   "cell_type": "markdown",
   "metadata": {},
   "source": [
    "[Hint](# \"You will need to use cv2.waitKey and python ord functions\") "
   ]
  },
  {
   "cell_type": "code",
   "execution_count": 4,
   "metadata": {},
   "outputs": [
    {
     "data": {
      "text/plain": [
       "-1"
      ]
     },
     "execution_count": 4,
     "metadata": {},
     "output_type": "execute_result"
    }
   ],
   "source": [
    "# Do the same as above but using your webcam image \n",
    "count = 0\n",
    "cap = cv2.VideoCapture(0)\n",
    "key = 0\n",
    "\n",
    "while(True):\n",
    "    ret,frame = cap.read()\n",
    "    if(key== 27):\n",
    "        break\n",
    "        \n",
    "    if(key == ord('g') or key == ord('G')):\n",
    "        count = count + 1\n",
    "        cv2.putText(frame,\n",
    "                   f'count +1 = {count}',(200,200), cv2.FONT_HERSHEY_COMPLEX,1,(0,255,0),3)\n",
    "    \n",
    "    if(key == ord('c') or key == ord('C')):\n",
    "        count = count + 1\n",
    "        cv2.putText(frame,\n",
    "                   f'count +1 = {count}',(200,200), cv2.FONT_HERSHEY_COMPLEX,1,(0,255,0),3)\n",
    "        \n",
    "    if(key == ord('t') or key == ord('T')):\n",
    "        count = count + 1\n",
    "        cv2.putText(frame,\n",
    "                   f'count +1 = {count}',(200,200), cv2.FONT_HERSHEY_COMPLEX,1,(0,255,0),3)\n",
    "\n",
    "    cv2.imshow(\"Image\", frame)\n",
    "    \n",
    "    key =cv2.waitKey(2000)\n",
    "    \n",
    "cap.release()\n",
    "cv2.destroyAllWindows()\n",
    "cv2.waitKey(1)"
   ]
  },
  {
   "cell_type": "markdown",
   "metadata": {},
   "source": [
    "[Hint](# \"You will need to use cv2.VideoCapture function\") "
   ]
  },
  {
   "cell_type": "markdown",
   "metadata": {},
   "source": [
    "## Mouse callbacks"
   ]
  },
  {
   "cell_type": "code",
   "execution_count": null,
   "metadata": {},
   "outputs": [],
   "source": [
    "# Load an image and show it on screen with cv2.imshow\n",
    "# When the user clicks on top of the image save the coordinates\n",
    "# The user will then move the cursor without releasing the mouse button to another position\n",
    "# When the user releases the button draw a rectagle around the ROI\n",
    "# When the key esc is detected close the image\n"
   ]
  },
  {
   "cell_type": "code",
   "execution_count": 5,
   "metadata": {},
   "outputs": [
    {
     "data": {
      "text/plain": [
       "-1"
      ]
     },
     "execution_count": 5,
     "metadata": {},
     "output_type": "execute_result"
    }
   ],
   "source": [
    "window_name ='window'\n",
    "img = Image.copy()\n",
    "\n",
    "cv2.namedWindow(window_name)\n",
    "\n",
    "def draw_square(action,x,y,flags,userdata):\n",
    "    if(action== cv2.EVENT_LBUTTONUP):\n",
    "        cv2.rectangle(userdata,(x,y),(x + 50, y+50),(0,255,0),-1)\n",
    "        cv2.imshow(window_name,userdata)\n",
    "        \n",
    "    if(action== cv2.EVENT_RBUTTONUP):\n",
    "        cv2.rectangle(userdata,(x,y),(x + 50, y+50),(255,0,0),-1)\n",
    "        cv2.imshow(window_name,userdata)\n",
    "        \n",
    "cv2.setMouseCallback(window_name,draw_square, img)\n",
    "\n",
    "cv2.imshow(window_name,img)\n",
    "cv2.waitKey(0)\n",
    "cv2.destroyAllWindows()\n",
    "cv2.waitKey(1)"
   ]
  },
  {
   "cell_type": "code",
   "execution_count": null,
   "metadata": {},
   "outputs": [],
   "source": [
    "# Crop and save the ROI image to disk \n"
   ]
  },
  {
   "cell_type": "markdown",
   "metadata": {},
   "source": [
    "[Hint](# \"cv2.setMouseCallback\") "
   ]
  },
  {
   "cell_type": "markdown",
   "metadata": {},
   "source": [
    "## Trackbars"
   ]
  },
  {
   "cell_type": "code",
   "execution_count": null,
   "metadata": {
    "ExecuteTime": {
     "end_time": "2019-11-19T11:17:26.647991Z",
     "start_time": "2019-11-19T11:17:26.635749Z"
    }
   },
   "outputs": [],
   "source": [
    "# Create a named window, load and show an image in that window\n",
    "\n"
   ]
  },
  {
   "cell_type": "markdown",
   "metadata": {},
   "source": [
    "[Hint](# \"cv2.namedWindow\") "
   ]
  },
  {
   "cell_type": "code",
   "execution_count": 6,
   "metadata": {},
   "outputs": [
    {
     "data": {
      "text/plain": [
       "-1"
      ]
     },
     "execution_count": 6,
     "metadata": {},
     "output_type": "execute_result"
    }
   ],
   "source": [
    "# Add at least 3 different trackbars to the window (choose of any parameters that you want to modify with them)\n",
    "# Each trackbar will modify some parameter of the image, write a function for each trackbar\n",
    "# When the user move the trackbar around the image should be updated accordingly\n",
    "# When the key esc is detected close the image\n",
    "window_name ='window'\n",
    "cv2.namedWindow(window_name, cv2.WINDOW_AUTOSIZE)\n",
    "img = Image.copy()\n",
    "\n",
    "threshold_value=0\n",
    "threshold_type = cv2.THRESH_BINARY\n",
    "threshold_types = [cv2.THRESH_BINARY, cv2.THRESH_BINARY_INV, cv2.THRESH_TOZERO, cv2.THRESH_TRUNC]\n",
    "\n",
    "def change_threshold_value(val):\n",
    "    threshold_value =val\n",
    "    ret,thresh = cv2.threshold(img, threshold_value, 255, threshold_type)\n",
    "    cv2.imshow(window_name,thresh)\n",
    "    \n",
    "def change_threshold_type(val):\n",
    "    threshold_value =val\n",
    "    ret,thresh = cv2.threshold(img, threshold_value, 255, threshold_type)\n",
    "    cv2.imshow(window_name,thresh)\n",
    "    \n",
    "    \n",
    "cv2.createTrackbar(\"Threshold Value\", window_name, 0, 255,change_threshold_value)\n",
    "cv2.createTrackbar(\"Threshold Type\", window_name,threshold_type, 4,change_threshold_value)\n",
    "\n",
    "cv2.imshow(window_name,img)\n",
    "cv2.waitKey(0)\n",
    "cv2.destroyAllWindows()\n",
    "cv2.waitKey(1)"
   ]
  },
  {
   "cell_type": "markdown",
   "metadata": {},
   "source": [
    "[Hint](# \"cv2.createTrackbar\") "
   ]
  },
  {
   "cell_type": "code",
   "execution_count": null,
   "metadata": {
    "ExecuteTime": {
     "end_time": "2019-11-19T11:17:40.562115Z",
     "start_time": "2019-11-19T11:17:39.321415Z"
    },
    "scrolled": false
   },
   "outputs": [],
   "source": [
    "# Do the same as above but using your webcam image so the trackbars will apply the changes on live image\n"
   ]
  }
 ],
 "metadata": {
  "kernelspec": {
   "display_name": "Python 3",
   "language": "python",
   "name": "python3"
  },
  "language_info": {
   "codemirror_mode": {
    "name": "ipython",
    "version": 3
   },
   "file_extension": ".py",
   "mimetype": "text/x-python",
   "name": "python",
   "nbconvert_exporter": "python",
   "pygments_lexer": "ipython3",
   "version": "3.8.3"
  }
 },
 "nbformat": 4,
 "nbformat_minor": 2
}
